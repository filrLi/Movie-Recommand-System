{
 "cells": [
  {
   "cell_type": "code",
   "execution_count": 1,
   "metadata": {},
   "outputs": [],
   "source": [
    "import pandas as pd"
   ]
  },
  {
   "cell_type": "code",
   "execution_count": 11,
   "metadata": {},
   "outputs": [],
   "source": [
    "data = pd.read_csv('ratings.csv')\n",
    "data = data[['userId', 'movieId','rating']]"
   ]
  },
  {
   "cell_type": "markdown",
   "metadata": {},
   "source": [
    "### 训练集，数据集拆分\n",
    "把rating按照用户id分组，按0.8:0.2拆分成train_set 和 test_set\n",
    "保证每个用户看过的电影数量在训练集和测试集中的比例都是0.8:0.2"
   ]
  },
  {
   "cell_type": "code",
   "execution_count": 84,
   "metadata": {},
   "outputs": [
    {
     "name": "stdout",
     "output_type": "stream",
     "text": [
      "3.9361702127659575\n"
     ]
    }
   ],
   "source": [
    "def train_test_split(data, seed):\n",
    "    train_set = {}\n",
    "    test_set = {}\n",
    "    for user, movies in data.groupby('userId'):\n",
    "        movies = movies.sample(frac=1, random_state=seed).reset_index(drop=True)\n",
    "        train = movies[:int(0.8*len(movies))]\n",
    "        test = movies[int(0.8*len(movies)):]\n",
    "        train_set[user] = train[['movieId', 'rating']]\n",
    "        test_set[user] = test[['movieId', 'rating']]\n",
    "    #print('Data preparation finished')\n",
    "    return train_set, test_set\n",
    "\n",
    "train_set, test_set = train_test_split(data, seed = 7)\n",
    "print(train_set[1].shape[0]/test_set[1].shape[0])"
   ]
  },
  {
   "cell_type": "markdown",
   "metadata": {},
   "source": [
    "### User-base 推荐系统原理\n",
    "计算余弦相似度，找到前k个最相似的用户\n",
    "计算可以推荐电影（k个用户看过，但目标用户没看过的电影）的推荐价值分（某用户的评分乘以他和目标用户的相似度），找到前N个分数最高的电影作为输出。"
   ]
  },
  {
   "cell_type": "code",
   "execution_count": 104,
   "metadata": {},
   "outputs": [
    {
     "name": "stdout",
     "output_type": "stream",
     "text": [
      "Inverse table finished\n",
      "Co-rated items count finished\n",
      "Similarity calculation finished\n",
      "[0.6682759700803873, 0.6682759700803873, 0.6049559497088604, 0.6045868714056453, 0.6041357201939179, 0.5412668510341183, 0.5408685716254223, 0.5408685716254223, 0.5408685716254223, 0.5400483421104799, 0.539203212810112, 0.5391503410070806, 0.5378131733417608, 0.5374440950385456, 0.537439072683243, 0.537439072683243, 0.5369929438268183, 0.5366717149713318, 0.5362640988610213, 0.5362640988610213]\n",
      "[2571, 480, 1391, 1580, 780, 457, 1270, 1909, 2628, 1036, 2700, 858, 380, 2174, 2916, 1371, 1240, 924, 1222, 2640]\n"
     ]
    }
   ],
   "source": [
    "from operator import itemgetter\n",
    "import numpy as np\n",
    "\n",
    "def User_Similarity(train_set):\n",
    "    # Build inverse table\n",
    "    item_user = {}\n",
    "    rating = {}\n",
    "    for u, items in train_set.items():\n",
    "        rating[u] = {}\n",
    "        movies = items['movieId'].tolist()\n",
    "        ratings = items['rating'].tolist()\n",
    "        for inum in range(len(movies)):\n",
    "            i = movies[inum]\n",
    "            rating[u][i] = ratings[inum]\n",
    "            if i not in item_user.keys():\n",
    "                item_user[i] = set()\n",
    "            item_user[i].add(u)\n",
    "    print('Inverse table finished')\n",
    "    # Co-rated items between users\n",
    "    C = {}\n",
    "    N = {}\n",
    "    W = {}\n",
    "    for u in train_set.keys():\n",
    "        N[u] = 0\n",
    "        C[u] = {}\n",
    "        W[u] = {}\n",
    "        for v in train_set.keys():\n",
    "            if v == u:\n",
    "                continue\n",
    "            C[u][v] = 0\n",
    "            W[u][v] = 0\n",
    "    for i, users in item_user.items():\n",
    "        for u in users:\n",
    "            N[u] += 1\n",
    "            for v in users:\n",
    "                if v == u:\n",
    "                    continue\n",
    "                #urating = rating[u][i]\n",
    "                #vrating = rating[v][i]\n",
    "                #corating = -abs(urating - vrating) + 5\n",
    "                C[u][v] += 1/np.log(1+len(users)*1.0)\n",
    "    print('Co-rated items count finished')\n",
    "    # Calculate similarity matrix\n",
    "    for u, related_users in C.items():\n",
    "        for v, cuv in related_users.items():\n",
    "            W[u][v] = cuv/(N[u]*N[v])**0.5\n",
    "    print('Similarity calculation finished')\n",
    "    return W\n",
    "\n",
    "def Recommend(user, train, N, K, W):\n",
    "    rank = {}\n",
    "    watched = {}\n",
    "    already_items = train[user]['movieId']\n",
    "    for v, wuv in sorted(W[user].items(), key=itemgetter(1), reverse=True)[:K]:\n",
    "        for i in train[v]['movieId']:\n",
    "            if i in already_items:\n",
    "                continue\n",
    "            if i not in rank.keys():\n",
    "                rank[i] = 0\n",
    "                watched[i] = 0\n",
    "            rank[i] += wuv\n",
    "            watched[i] += 1\n",
    "    #for i in rank.keys():\n",
    "        #rank[i] = rank[i]/watched[i]\n",
    "    recommend = sorted(rank.items(), key = itemgetter(1), reverse=True)[:N]\n",
    "    print([movie[1] for movie in recommend])\n",
    "    recommend = [movie[0] for movie in recommend]\n",
    "    return recommend\n",
    "\n",
    "user_simularity = User_Similarity(train_set)\n",
    "recommend_movies = Recommend(1, train_set, 20, 10 ,user_simularity)\n",
    "print(recommend_movies)\n"
   ]
  },
  {
   "cell_type": "markdown",
   "metadata": {},
   "source": [
    "### 1.Recall\n",
    "召回率是指实际发生交互的商品中被预测出来部分的比例<br>\n",
    "\n",
    "### 2.Precision\n",
    "准确率是指实推荐的商品中用户真正发生交互商品的比例<br>"
   ]
  },
  {
   "cell_type": "code",
   "execution_count": 100,
   "metadata": {},
   "outputs": [
    {
     "name": "stdout",
     "output_type": "stream",
     "text": [
      "K: 5 Recall:  0.050839986285938187 Precision:  0.08508196721311476\n",
      "K: 10 Recall:  0.055639907919870696 Precision:  0.09311475409836066\n",
      "K: 15 Recall:  0.05588480188078562 Precision:  0.09352459016393443\n",
      "K: 20 Recall:  0.057599059607190084 Precision:  0.09639344262295083\n",
      "K: 25 Recall:  0.06048880834598619 Precision:  0.10122950819672132\n",
      "K: 30 Recall:  0.059509232502326495 Precision:  0.09959016393442623\n"
     ]
    }
   ],
   "source": [
    "def Recall(train, test, N, K, W):\n",
    "    hit = 0\n",
    "    realall = 0\n",
    "    for user in train.keys():\n",
    "        tu = set(test[user]['movieId'].tolist())\n",
    "        recommend_list = Recommend(user, train, N, K, W)\n",
    "        user_hit = 0\n",
    "        for item in recommend_list:\n",
    "            if item in tu:\n",
    "                user_hit += 1\n",
    "                hit += 1\n",
    "        #print('For user:', user, ', recall is ', user_hit/len(tu))\n",
    "        realall += len(tu)\n",
    "    return hit/(realall*1.0)\n",
    "\n",
    "def Precision(train, test, N, K, W):\n",
    "    hit = 0\n",
    "    realall = 0\n",
    "    for user in train.keys():\n",
    "        tu = set(test[user]['movieId'].tolist())\n",
    "        recommend_list = Recommend(user, train, N, K, W)\n",
    "        user_hit = 0\n",
    "        for item in recommend_list:\n",
    "            if item in tu:\n",
    "                hit += 1\n",
    "                user_hit += 1\n",
    "        #print('For user:', user, ', precision is ', user_hit/N)\n",
    "        realall += N\n",
    "    return hit/(realall*1.0)\n",
    "\n",
    "for K in range(5, 31, 5):\n",
    "    recall = Recall(train_set, test_set, 20, K, user_simularity)\n",
    "    precision = Precision(train_set, test_set, 20, K, user_simularity)\n",
    "    print('K:', K, 'Recall: ', recall, 'Precision: ', precision)"
   ]
  },
  {
   "cell_type": "code",
   "execution_count": null,
   "metadata": {},
   "outputs": [],
   "source": []
  }
 ],
 "metadata": {
  "kernelspec": {
   "display_name": "Python 3",
   "language": "python",
   "name": "python3"
  },
  "language_info": {
   "codemirror_mode": {
    "name": "ipython",
    "version": 3
   },
   "file_extension": ".py",
   "mimetype": "text/x-python",
   "name": "python",
   "nbconvert_exporter": "python",
   "pygments_lexer": "ipython3",
   "version": "3.7.1"
  },
  "varInspector": {
   "cols": {
    "lenName": 16,
    "lenType": 16,
    "lenVar": 40
   },
   "kernels_config": {
    "python": {
     "delete_cmd_postfix": "",
     "delete_cmd_prefix": "del ",
     "library": "var_list.py",
     "varRefreshCmd": "print(var_dic_list())"
    },
    "r": {
     "delete_cmd_postfix": ") ",
     "delete_cmd_prefix": "rm(",
     "library": "var_list.r",
     "varRefreshCmd": "cat(var_dic_list()) "
    }
   },
   "types_to_exclude": [
    "module",
    "function",
    "builtin_function_or_method",
    "instance",
    "_Feature"
   ],
   "window_display": false
  }
 },
 "nbformat": 4,
 "nbformat_minor": 2
}
